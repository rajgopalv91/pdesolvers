{
 "cells": [
  {
   "cell_type": "code",
   "execution_count": 1,
   "metadata": {},
   "outputs": [],
   "source": [
    "import numpy as np\n",
    "import numpy.linalg as la\n",
    "import matplotlib.pyplot as plt\n",
    "import scipy.sparse as sp\n",
    "import scipy.sparse.linalg as sppla"
   ]
  },
  {
   "cell_type": "markdown",
   "metadata": {},
   "source": [
    "# Overview\n",
    "\n",
    "This project is an exploration of ways to solve the 2D heat equation on a given geometry with finite difference methods. We try some classic methods and a multigrid solver.\n",
    "\n",
    "The problem is interesting because of needing to account for the boundary conditions created by the geometry of the region we're interested in. The boundary conditions are assumed to be either Dirichlet (to model contact with the external environment) or Von-Neumann (to model perfectly insulating walls)."
   ]
  },
  {
   "cell_type": "markdown",
   "metadata": {},
   "source": [
    "## The 2D region\n",
    "\n",
    "The 2D domain we investigate is like a room with a kind of fireplace containing a heat source walled in on three sides and another source across it near an opposing wall. There are two openings on two other walls that are set to be in contact with the environment and always remain at a fixed temperature. Running the code below produces a visualization of this geometry."
   ]
  },
  {
   "cell_type": "code",
   "execution_count": 2,
   "metadata": {},
   "outputs": [],
   "source": [
    "#Setting the dimensions of the room\n",
    "sizex = 10.0 #width\n",
    "sizey = 10.0 #height\n",
    "wthick = 1 #wall thickness\n",
    "num_points = 200 #number of intervals we split into (the same in both dimensions)\n",
    "\n",
    "#functions for the custom room we're building\n",
    "\n",
    "#defining the domain\n",
    "def in_domain(x,y):\n",
    "    return (\n",
    "    (\n",
    "        #first excluding walls on all four sides\n",
    "        (x > wthick) and (x < sizex-wthick)\n",
    "        and (y > wthick) and (y < sizey-wthick)\n",
    "    )\n",
    "    and\n",
    "        #excluding the insulating faces of the \"fireplace\"\n",
    "        not( (x > 0.5*(0.5*sizex-wthick)) and (x < 0.5*(0.5*sizex+wthick)) and (y < sizey*0.6))\n",
    "    and\n",
    "        not((x > 0.5*(1.5*sizex-wthick)) and (x < 0.5*(1.5*sizex+wthick)) and (y < sizey*0.6))\n",
    "        #excluding the windows opening out into the environment\n",
    "    and not in_window(x,y)\n",
    "    )\n",
    "\n",
    "#defining the location of the Dirichlet windows opening into the environment\n",
    "def in_window(x,y):\n",
    "    return (\n",
    "        (\n",
    "            (x < wthick) and (y > sizey*0.3) and (y < sizey*0.6)\n",
    "        )\n",
    "        or\n",
    "        (\n",
    "            (x>sizex-wthick) and (y > sizey*0.3) and (y < sizey*0.6)\n",
    "        )\n",
    "    )\n",
    "\n",
    "#defining the location of the heat sources in the room\n",
    "def in_source(x,y):\n",
    "    return (\n",
    "        ((x > 0.5*(sizex-wthick)) and (x < 0.5*(sizex-wthick+1)) and (y > wthick*1.5) and (y < wthick*2.5))\n",
    "        or\n",
    "        ((x > 0.5*(sizex-wthick)) and (x < 0.5*(sizex-wthick+1)) and (y > sizey - wthick*2.5) and (y < sizey - wthick*1.5))\n",
    "    )"
   ]
  },
  {
   "cell_type": "code",
   "execution_count": 3,
   "metadata": {},
   "outputs": [],
   "source": [
    "#defining an equispaced set of points to iterate over in each dimension\n",
    "v = np.linspace (0,sizex,num_points)\n",
    "\n",
    "#defining a grid that represents the 2D domain\n",
    "to_see = np.ones((num_points,num_points),dtype=int)\n",
    "\n",
    "#setting points in the grid to be either in the interior, in heat sources, or in windows\n",
    "for i in range(num_points):\n",
    "    for j in range(num_points):\n",
    "        if(in_domain(v[i],v[j])):\n",
    "            if(in_source(v[i],v[j])):\n",
    "                to_see[i,j] = 3 #source term\n",
    "            else:\n",
    "                to_see[i,j] = 2 #inner term\n",
    "        else:\n",
    "            if(in_window(v[i],v[j])):\n",
    "                to_see[i,j] = 0 #dirichlet"
   ]
  },
  {
   "cell_type": "code",
   "execution_count": 4,
   "metadata": {},
   "outputs": [
    {
     "data": {
      "text/plain": [
       "<matplotlib.image.AxesImage at 0x124446898>"
      ]
     },
     "execution_count": 4,
     "metadata": {},
     "output_type": "execute_result"
    },
    {
     "data": {
      "image/png": "[encoded data removed]",
      "text/plain": [
       "<Figure size 432x288 with 1 Axes>"
      ]
     },
     "metadata": {
      "needs_background": "light"
     },
     "output_type": "display_data"
    }
   ],
   "source": [
    "#viewing the room as defined\n",
    "plt.imshow(to_see, extent=[0,10,0,10])"
   ]
  },
  {
   "cell_type": "markdown",
   "metadata": {},
   "source": [
    "## The Laplacian\n",
    "\n",
    "We construct a matrix laplacian for the domain. For points aways from the boundary, because the resolution in both dimensions is the same, we average the four closest points (left and right, above and below) to get a second order central difference approximation.\n",
    "\n",
    "For Von-Neumann points we use a third order taylor approximation along the normal direction averaging the closest and second closest point in a 4/3: -1/3 ratio.\n",
    "\n",
    "These difference equations use very few points in the vicinity of a given point for an approximation and the laplacian is thus very sparse. We exploit this by using scipy's support for sparse matrices by storing them as \"csr\" matrices.\n",
    "\n",
    "I wrote two versions of the laplacian which turned out to be handy later.\n",
    "\n",
    "The first version splits the whole laplacian into two parts: one matrix with the central difference terms without boundary conditions, and a \"mask\" matrix that then reconstructs the values at Von-Neumann points from the interior points. The main reason that I kept this function was that this separation into two steps (and the mask) was useful elsewhere.\n",
    "\n",
    "The second version of the laplacian function handles both boundary points and the interior in the same matrix and is cleaner.\n",
    "\n",
    "Both matrices are constructed as sparse matrices where a small number of diagonals are fully specified. The mapping works roughly as follows:\n",
    "\n",
    "1. There are size^2 points in our domain, and implicitly the laplacian matrix is defined on a size^2 x size^2 matrix (though because of sparsity space usage will be linear and not quadratic in the number of points).\n",
    "2. The difference equations end up looking like bands when the 2D domain is linearized (in row major with y being the row dimension). Points \"size\" away are adjacent in the x directions and points 1 away are adjacent in the y direction (edges and corners are handled with more care).\n",
    "3. The difference equation for each point populates some number of diagonals. Closer analysis shows that 5 diagonals are enough for all the standard central difference terms and 9 diagonals are enough to handle all the Von-Neumann terms.\n",
    "\n",
    "The end result is that we get an operator that when applied to a linearization of the domain replicates the discrete laplacian on the points. The choice of y being the rows instead of the columns is admittedly unusual but does not affect anything as both dimensions are symmetric, and is just an artefact of the way I named things. I did not feel strongly enough to switch the ys and the xs after getting it to work."
   ]
  },
  {
   "cell_type": "code",
   "execution_count": 5,
   "metadata": {},
   "outputs": [],
   "source": [
    "def make_laplacian(see_mat,v_mat,size):\n",
    "    \n",
    "    #the 5 diagonals we need for the standard central difference equation\n",
    "    dmain = np.zeros(size**2, dtype=np.float64) #main diagonal\n",
    "    \n",
    "    dxl = np.zeros(size**2 - (size), dtype=np.float64) #for grid points to the left, size places away\n",
    "    dxr = np.zeros(size**2 - (size), dtype=np.float64) #for grid points to the right\n",
    "    \n",
    "    dya = np.zeros(size**2 - 1, dtype=np.float64) #grid points above the given point\n",
    "    dyb = np.zeros(size**2- 1, dtype=np.float64) #grid points below\n",
    "    \n",
    "    #the 9 diagonals we need for the Von Neumann conditions\n",
    "    emain = np.zeros(size**2, dtype=np.float64) #the main diagonal\n",
    "    \n",
    "    exl = np.zeros(size**2 - (size), dtype=np.float64) #points to the left\n",
    "    exr = np.zeros(size**2 - (size), dtype=np.float64) #to the right\n",
    "    \n",
    "    ex2l = np.zeros(size**2 - 2*(size), dtype=np.float64) #two places over to the left - 2\n",
    "    ex2r = np.zeros(size**2 - 2*(size), dtype=np.float64) #two places over to the right, +2\n",
    "    \n",
    "    eya = np.zeros(size**2 - 1, dtype=np.float64) #one places above\n",
    "    eyb = np.zeros(size**2- 1, dtype=np.float64) #one place below\n",
    "    \n",
    "    ey2a = np.zeros(size**2 - 2, dtype=np.float64) #two places above\n",
    "    ey2b = np.zeros(size**2- 2, dtype=np.float64) #two places below\n",
    "    \n",
    "    #initializing the coefficients of these diagonals\n",
    "    for i in range(size):\n",
    "        for j in range(size):\n",
    "            atval = i*size + j #the index i,j is mapped to i + j*size. i-1, i, i+1 horizontal, js vertical\n",
    "            once = False #to handle corners exactly once (though not a big deal to just be treated on either edge)\n",
    "            if see_mat[i,j] == 1: #i.e. point is von-neumann, applying the 4/3 : -1/3 weighting\n",
    "                if i!=0:\n",
    "                    if see_mat[i-1,j] == 2 or see_mat[i-1,j] ==3: #means you've got values to your left\n",
    "                        exl[atval-size] = 4.0/3 \n",
    "                        ex2l[atval-2*size] = -1.0/3\n",
    "                        once=True\n",
    "                        \n",
    "                if i!=size-1 and once==False:\n",
    "                    if see_mat[i+1,j] == 2 or see_mat[i+1,j] == 3:\n",
    "                        exr[atval] = 4.0/3\n",
    "                        ex2r[atval] = -1.0/3\n",
    "                        once = True\n",
    "                        \n",
    "                if j!=0 and once==False:\n",
    "                    if see_mat[i,j-1] == 2 or see_mat[i,j - 1] == 3 :\n",
    "                        eya[atval-1] = 4.0/3\n",
    "                        ey2a[atval-2] = -1.0/3\n",
    "                        once = True\n",
    "                        \n",
    "                if j!=size -1 and once==False:\n",
    "                    if see_mat[i,j+1] == 2 or see_mat[i,j+1]==3:\n",
    "                        eyb[atval] = 4.0/3\n",
    "                        ey2b[atval] = -1.0/3\n",
    "            else: #point is not von-neumann\n",
    "                if see_mat[i,j] == 2 or see_mat[i,j] == 3: #standard central difference weighting\n",
    "                    dmain[atval] = -4.0\n",
    "                    dxl[atval-size] = 1.0\n",
    "                    dxr[atval] = 1.0\n",
    "                    dya[atval -1] = 1.0\n",
    "                    dyb[atval] = 1.0\n",
    "                if see_mat[i,j] == 0: #dirichlet points\n",
    "                    emain[atval] = 0 #zeroing out in the mask, because dirichlets are 0 here\n",
    "                    dmain[atval] = 1.0 #retaining previous values\n",
    "                else:\n",
    "                    emain[atval] = 1.0 #essential\n",
    "    \n",
    "    #creating the standard central difference matrix sparsely\n",
    "    diagonals = [dmain,dxl,dxr,dya,dyb]\n",
    "    retval = sp.diags(diagonals,[0,-size,size,-1,1],format='csr',dtype=np.float64)\n",
    "    \n",
    "    #creating the boundary points correction matrix/mask sparsely\n",
    "    eiagonals = [emain,exl,exr,ex2l,ex2r,eya,eyb,ey2a,ey2b]\n",
    "    petval = sp.diags(eiagonals,[0,-size,size,-2*size,2*size,-1,1,-2,2],format='csr',dtype=np.float64)\n",
    "    return retval, petval #retval is the \"standard\" laplacian, petval has von-neumann corrections for updates"
   ]
  },
  {
   "cell_type": "code",
   "execution_count": 6,
   "metadata": {},
   "outputs": [],
   "source": [
    "#this function does not split boundary point handling and interior points into two matrices, just does it in one matrix\n",
    "def steady_laplacian(see_mat,v_mat,size):\n",
    "    \n",
    "    \n",
    "    #the variables mean essentially the same as the previous function\n",
    "    #we use the 9 diagonals introduced before for both types of points together\n",
    "    emain = np.zeros(size**2, dtype=np.float64) #given point\n",
    "    \n",
    "    exl = np.zeros(size**2 - (size), dtype=np.float64) #again, to the left, necessary at times\n",
    "    exr = np.zeros(size**2 - (size), dtype=np.float64) #to the right, necessary at times\n",
    "    \n",
    "    ex2l = np.zeros(size**2 - 2*(size), dtype=np.float64) #two places over to the left - 2\n",
    "    ex2r = np.zeros(size**2 - 2*(size), dtype=np.float64) #two places over to the right, +2\n",
    "    \n",
    "    eya = np.zeros(size**2 - 1, dtype=np.float64) #one place above\n",
    "    eyb = np.zeros(size**2- 1, dtype=np.float64) #one place below\n",
    "    \n",
    "    ey2a = np.zeros(size**2 - 2, dtype=np.float64) #two places above\n",
    "    ey2b = np.zeros(size**2- 2, dtype=np.float64) #two places below\n",
    "    \n",
    "    for i in range(size):\n",
    "        for j in range(size):\n",
    "            atval = i*size + j #the index i,j is mapped to i + j*size. i-1, i, i+1 horizontal, js vertical\n",
    "            once = False #to handle corners exactly once, shouldn't be a big deal either way\n",
    "            if see_mat[i,j] == 1: #point is von-neumann, needs to be given a value\n",
    "                if i!=0:\n",
    "                    if see_mat[i-1,j] == 2 or see_mat[i-1,j] ==3: #means you've got values to your left\n",
    "                        exl[atval-size] = 4.0/3 \n",
    "                        ex2l[atval-2*size] = -1.0/3\n",
    "                        once=True\n",
    "                        \n",
    "                if i!=size-1 and once==False:\n",
    "                    if see_mat[i+1,j] == 2 or see_mat[i+1,j] == 3:\n",
    "                        exr[atval] = 4.0/3\n",
    "                        ex2r[atval] = -1.0/3\n",
    "                        once = True\n",
    "                        \n",
    "                if j!=0 and once==False:\n",
    "                    if see_mat[i,j-1] == 2 or see_mat[i,j - 1] == 3 :\n",
    "                        eya[atval-1] = 4.0/3\n",
    "                        ey2a[atval-2] = -1.0/3\n",
    "                        once = True\n",
    "                        \n",
    "                if j!=size -1 and once==False:\n",
    "                    if see_mat[i,j+1] == 2 or see_mat[i,j+1]==3:\n",
    "                        eyb[atval] = 4.0/3\n",
    "                        ey2b[atval] = -1.0/3\n",
    "                        once=True\n",
    "                emain[atval] = -1.0 #constraining the von_neumann point\n",
    "            else:\n",
    "                if see_mat[i,j] == 2 or see_mat[i,j] == 3:\n",
    "                    emain[atval] = -4.0\n",
    "                    exl[atval-size] = 1.0\n",
    "                    exr[atval] = 1.0\n",
    "                    eya[atval -1] = 1.0\n",
    "                    eyb[atval] = 1.0\n",
    "                if see_mat[i,j] == 0:\n",
    "                    emain[atval] = 1.0 #making dirichlet 1, fixed to value in source\n",
    "\n",
    "    eiagonals = [emain,exl,exr,ex2l,ex2r,eya,eyb,ey2a,ey2b]\n",
    "    petval = sp.diags(eiagonals,[0,-size,size,-2*size,2*size,-1,1,-2,2],format='csr',dtype=np.float64)\n",
    "    return petval #only one matrix that correctly handles all mappings"
   ]
  },
  {
   "cell_type": "markdown",
   "metadata": {},
   "source": [
    "## Helper functions and Classic solvers\n",
    "\n",
    "In this section I define a few helper functions and one explicit and implicit solver.\n",
    "\n",
    "We first define a direct solver that directly computes the system's steady state (i.e. when temperatures do not change) by just solving the matrix equation defined by the laplacian on the start state. This is useful if we want to know what the system will end up looking like, and runs very quickly as operations are on sparse matrices.\n",
    "\n",
    "The make_source function returns a linearization of the domain where the source points are assigned a heat value of 0.5. (The outside environment is 0 and everything except the sources start at 0)\n",
    "\n",
    "The explicit method I chose to test is the [standard FTCS scheme](https://en.wikipedia.org/wiki/FTCS_scheme#:~:text=In%20numerical%20analysis%2C%20the%20FTCS,applied%20to%20the%20heat%20equation.). One has to be careful about choosing the right time step for solutions to be stable. The timestep used here is the standard one obtained by fourier-analytic methods.\n",
    "\n",
    "The implicit method I chose is [crank-nicolson](https://en.wikipedia.org/wiki/Crank%E2%80%93Nicolson_method). This is stable for most reasonable choices of timestep (O(spacing^2) here), but unfortunately rather slow when applied to the problem at hand."
   ]
  },
  {
   "cell_type": "code",
   "execution_count": 7,
   "metadata": {},
   "outputs": [],
   "source": [
    "#function that directly solves for the stationary state by setting laplacian * steady_state = - source_terms\n",
    "def direct_solve(see_mat,v_mat,size,source):\n",
    "    h = v_mat[2] - v_mat[1]\n",
    "    lap = steady_laplacian(see_mat,v_mat,size)\n",
    "    u = sppla.spsolve(-lap,source*(h**2))\n",
    "    return u"
   ]
  },
  {
   "cell_type": "code",
   "execution_count": 8,
   "metadata": {},
   "outputs": [],
   "source": [
    "#marks points in the source as having a temperature of 0.5 - completely arbitrary\n",
    "def make_source(see_mat,size):\n",
    "    retval = np.zeros(size**2,dtype=np.float64)\n",
    "    for i in range(size):\n",
    "        for j in range(size):\n",
    "            if see_mat[i,j] == 3:\n",
    "                retval[i*size + j] = 0.5\n",
    "    return retval"
   ]
  },
  {
   "cell_type": "code",
   "execution_count": 9,
   "metadata": {},
   "outputs": [],
   "source": [
    "#Steady solver that uses the steady laplacian\n",
    "#lap = laplacian, r = source\n",
    "def FTCS_steady_solve(lap, v_mat, size, start, r, time):\n",
    "    dt = 0.25*(v_mat[2] - v_mat[1])**2 #acceptable timestep for stability\n",
    "    T = 0\n",
    "    u = np.copy(start)\n",
    "    while T < time:\n",
    "        u = u + 0.25*(lap.dot(u)) + r*dt\n",
    "        T = T + dt\n",
    "    return u"
   ]
  },
  {
   "cell_type": "code",
   "execution_count": 10,
   "metadata": {},
   "outputs": [],
   "source": [
    "# a standard second order runge-kutta method used for tests\n",
    "def RK2_solve(see_mat,v_mat,size,start,r,time):\n",
    "    dt = 0.25*(v_mat[2] - v_mat[1])**3\n",
    "    lap, neu_cor = make_laplacian(see_mat, v_mat, size)\n",
    "    lap = steady_laplacian(see_mat,v_mat,size)\n",
    "    h = v_mat[2] - v_mat[1]\n",
    "    lam = dt/h**2\n",
    "    T = 0\n",
    "    u = np.copy(start)\n",
    "    while T < time:\n",
    "        k1 = lam*(lap.dot(u)) + r*dt\n",
    "        v = u+0.5*k1 #neu_cor.dot(u+0.5*k1) #neumann_correction\n",
    "        k2 = lam*(lap.dot(v)) + r*dt\n",
    "        u = u + k2\n",
    "        #u = neu_cor.dot(u) #neumann_correction, also forces grid points to zero\n",
    "        T = T + dt\n",
    "    return u"
   ]
  },
  {
   "cell_type": "code",
   "execution_count": 11,
   "metadata": {},
   "outputs": [],
   "source": [
    "#standard Crank-Nicolson\n",
    "\n",
    "def crank_out(lap,neu_corr,v_mat,source,start,size,time):\n",
    "    u = np.copy(start)\n",
    "    h = v_mat[2] - v_mat[1]\n",
    "    dt = h**2\n",
    "    lam = dt/(2*h**2)\n",
    "    T = 0\n",
    "    I = sp.diags([1],[0],shape=(size**2,size**2))\n",
    "    while T < time:\n",
    "        u = (I + lam*lap).dot(u) + source*dt\n",
    "        u = sppla.spsolve(I - lam*lap, u)\n",
    "        u = neu_corr.dot(u)\n",
    "        T += dt\n",
    "    return u"
   ]
  },
  {
   "cell_type": "markdown",
   "metadata": {},
   "source": [
    "## Comparing classic methods\n",
    "\n",
    "### Directly solving for the stationary state\n",
    "\n",
    "Here we just solve the steady state equation at infinite time directly from the laplacian. This runs rather quickly (in < 5s on most machines). "
   ]
  },
  {
   "cell_type": "code",
   "execution_count": 12,
   "metadata": {},
   "outputs": [
    {
     "name": "stdout",
     "output_type": "stream",
     "text": [
      "0.7745094512050223\n"
     ]
    },
    {
     "data": {
      "image/png": "[encoded data removed]",
      "text/plain": [
       "<Figure size 432x288 with 1 Axes>"
      ]
     },
     "metadata": {
      "needs_background": "light"
     },
     "output_type": "display_data"
    }
   ],
   "source": [
    "v = np.linspace (0,sizex,num_points)\n",
    "r = make_source(to_see, num_points)\n",
    "steady_res = direct_solve(to_see,v,num_points,r)\n",
    "plt.imshow(steady_res.reshape(num_points,-1), extent=[0,10,0,10])\n",
    "print(np.max(steady_res)) #useful to check for overflow"
   ]
  },
  {
   "cell_type": "markdown",
   "metadata": {},
   "source": [
    "### The FTCS solver\n",
    "\n",
    "I use the FTCS solver to estimate what the state looks like at T = 300 units (a reasonably \"long\" time, close to the stationary state). This takes around 2 - 3 minutes on most machines but just comparing the hottest values with the steady state should reassure us that convergence is happening. (Alternatively one can skip this and go straight on to the multigrid solver, as Crank-Nicolson takes even longer...)"
   ]
  },
  {
   "cell_type": "code",
   "execution_count": 13,
   "metadata": {},
   "outputs": [
    {
     "name": "stdout",
     "output_type": "stream",
     "text": [
      "0.7736820743416328\n"
     ]
    },
    {
     "data": {
      "image/png": "[encoded data removed]",
      "text/plain": [
       "<Figure size 432x288 with 1 Axes>"
      ]
     },
     "metadata": {
      "needs_background": "light"
     },
     "output_type": "display_data"
    }
   ],
   "source": [
    "source = make_source(to_see,num_points)\n",
    "#plt.imshow(lap.toarray().reshape(num_points,-1))\n",
    "start = np.zeros(num_points**2,dtype=np.float64)\n",
    "#final = FTCS_solve(to_see,v,num_points,start,source,300) #uncomment this and comment next line to compare speeds\n",
    "lap = steady_laplacian(to_see,v,num_points)\n",
    "final = FTCS_steady_solve(lap,v,num_points,start,source,300)\n",
    "plt.imshow(final.reshape(num_points,-1), extent=[0,10,0,10])\n",
    "print(np.max(final)) #useful to check for overflow"
   ]
  },
  {
   "cell_type": "markdown",
   "metadata": {},
   "source": [
    "### Crank Nicolson\n",
    "\n",
    "This takes about 3 minutes to run to T = 4 units, so running close to steady state will take quite a while. However it's interesting to see what the solution looks like close to the start. (Alternatively this can be skipped)"
   ]
  },
  {
   "cell_type": "code",
   "execution_count": 14,
   "metadata": {},
   "outputs": [
    {
     "data": {
      "text/plain": [
       "<matplotlib.image.AxesImage at 0x12662a908>"
      ]
     },
     "execution_count": 14,
     "metadata": {},
     "output_type": "execute_result"
    },
    {
     "data": {
      "image/png": "[encoded data removed]",
      "text/plain": [
       "<Figure size 432x288 with 1 Axes>"
      ]
     },
     "metadata": {
      "needs_background": "light"
     },
     "output_type": "display_data"
    }
   ],
   "source": [
    "time = 4 #can be changed to be longer, execution time scales linearly\n",
    "v = np.linspace (0,sizex,num_points)\n",
    "r = make_source(to_see, num_points)\n",
    "start = np.zeros(num_points**2,dtype=np.float64)\n",
    "lap, neu_corr = make_laplacian(to_see,v,num_points)\n",
    "res = crank_out(lap, neu_corr,v,r,start,num_points,time)\n",
    "plt.imshow(res.reshape(num_points,-1))"
   ]
  },
  {
   "cell_type": "markdown",
   "metadata": {},
   "source": [
    "### Geometric Multigrid\n",
    "\n",
    "In this section we implement a V-cycle multigrid method. The basic idea is described in several places, like [here](https://www.comsol.com/blogs/on-solvers-v-cycle-multigrid/).\n",
    "\n",
    "We implement a geometric multigrid with three grids, each with half the points in each dimension (spaced out uniformly). Then we define prolongation and restriction operators (which is the tedious part), with sparse matrices much like the laplacian from before, and we can finally write a relatively elegant v_cycle function that we can run on random noise until the residual falls to a sufficiently low threshold."
   ]
  },
  {
   "cell_type": "code",
   "execution_count": 15,
   "metadata": {},
   "outputs": [],
   "source": [
    "#a random noise function that fills the interior of the grid with random noise, visualized later\n",
    "def make_guesses(see_mat, size):\n",
    "    u = np.random.rand(size**2)\n",
    "    for i in range(size):\n",
    "        for j in range(size):\n",
    "            if see_mat[i,j] != 2 and see_mat[i,j]!=3:\n",
    "                u[i*size + j] = 0\n",
    "    return u"
   ]
  },
  {
   "cell_type": "code",
   "execution_count": 16,
   "metadata": {},
   "outputs": [
    {
     "data": {
      "text/plain": [
       "<matplotlib.image.AxesImage at 0x12454f0f0>"
      ]
     },
     "execution_count": 16,
     "metadata": {},
     "output_type": "execute_result"
    },
    {
     "data": {
      "image/png": "[encoded data removed]",
      "text/plain": [
       "<Figure size 432x288 with 1 Axes>"
      ]
     },
     "metadata": {
      "needs_background": "light"
     },
     "output_type": "display_data"
    },
    {
     "data": {
      "image/png": "[encoded data removed]",
      "text/plain": [
       "<Figure size 432x288 with 1 Axes>"
      ]
     },
     "metadata": {
      "needs_background": "light"
     },
     "output_type": "display_data"
    },
    {
     "data": {
      "image/png": "[encoded data removed]",
      "text/plain": [
       "<Figure size 432x288 with 1 Axes>"
      ]
     },
     "metadata": {
      "needs_background": "light"
     },
     "output_type": "display_data"
    }
   ],
   "source": [
    "#defining the three grids of the multigrid\n",
    "\n",
    "level_0 = to_see #the base grid that we've been working with all this time\n",
    "\n",
    "level_1 = np.copy(to_see[::2,::2]) #the first level grid, with half the points in both dimensions as level_0\n",
    "\n",
    "level_2 = np.copy(level_1[::2,::2]) #the second level grid, with half the points in both dimensions as level_1\n",
    "\n",
    "#viewing what this looks like \n",
    "#the axes should be taken to mean that there are half the number of points at each level, but dimensions are the same\n",
    "plt.imshow(level_0)\n",
    "plt.figure()\n",
    "plt.imshow(level_1)\n",
    "plt.figure()\n",
    "plt.imshow(level_2)"
   ]
  },
  {
   "cell_type": "markdown",
   "metadata": {},
   "source": [
    "### The Prolongation Operator\n",
    "\n",
    "I chose a relatively simple/standardly described prolongation operator. On grids of twice the size, it copies over points that exactly overlap, while interpolating unknown values either as the average of two neighbors (if on a row that is carried over into the prolongation) or as the average of its four closest neighbors (in both dimensions, if on a row that is newly created in the prolongation). Then this operator is applied directly to the levels in question and stored for use in the v_cycle. Boundary points are conveniently handled using the mask operator from the laplacian written earlier."
   ]
  },
  {
   "cell_type": "code",
   "execution_count": 17,
   "metadata": {},
   "outputs": [],
   "source": [
    "#linear interpolation is second order accurate, and we're basically linearly interpolating while prolonging\n",
    "#the boundary conditions are handled last, after all other values are put in. I had already written a laplacian that\n",
    "#knows how to construct boundary points from non-boundary points. Will just directly use this!\n",
    "\n",
    "\n",
    "def make_prolongation(level,size):\n",
    "    data = []\n",
    "    row_inds = []\n",
    "    col_inds = []\n",
    "    for i in range(size):\n",
    "        for j in range(size):\n",
    "            if level[i,j] == 2 or level[i,j] == 3: #in business, not a boundary point in the target\n",
    "                row = i*size + j\n",
    "                if i %2 == 0:\n",
    "                    if j %2 ==0:\n",
    "                        #this is the case of exactly overlapping\n",
    "                        col = int(i/2)*int(size/2) + int(j/2)\n",
    "                        data.append(1.0)\n",
    "                        row_inds.append(row)\n",
    "                        col_inds.append(col)\n",
    "                        \n",
    "                        #when the point is sandwiched between two overlapping neighbors in the same row\n",
    "                    if j%2 == 1:\n",
    "                        col = int(i/2)*int(size/2) + int(j/2)\n",
    "                        \n",
    "                        data.append(0.5)\n",
    "                        row_inds.append(row)\n",
    "                        col_inds.append(col)\n",
    "                        \n",
    "                        data.append(0.5)\n",
    "                        row_inds.append(row)\n",
    "                        col_inds.append(col+1) #the point to the right in the coarser grid\n",
    "                else:\n",
    "                    #when the point is sandwiched between two overlapping neighbors in the same column\n",
    "                    if j%2 == 0:\n",
    "                        col = int(i/2)*int(size/2) + int(j/2)\n",
    "                        data.append(0.5)\n",
    "                        row_inds.append(row)\n",
    "                        col_inds.append(col)\n",
    "                        \n",
    "                        data.append(0.5)\n",
    "                        row_inds.append(row)\n",
    "                        col_inds.append(col+int(size/2)) #the point below\n",
    "                    else:\n",
    "                        #when all four closest neighbors are not overlapping points, average them all\n",
    "                        col = int(i/2)*int(size/2) + int(j/2)\n",
    "                        data.append(0.25)\n",
    "                        row_inds.append(row)\n",
    "                        col_inds.append(col)\n",
    "                        \n",
    "                        \n",
    "                        data.append(0.25)\n",
    "                        row_inds.append(row)\n",
    "                        col_inds.append(col+1)\n",
    "                        \n",
    "                        data.append(0.25)\n",
    "                        row_inds.append(row)\n",
    "                        col_inds.append(col+int(size/2))\n",
    "                        \n",
    "                        data.append(0.25)\n",
    "                        row_inds.append(row)\n",
    "                        col_inds.append(col+int(size/2)+1) #the point below and to the right\n",
    "    #creating a sparse matrix out of these\n",
    "    p = sp.csr_matrix((data,(row_inds,col_inds)),shape=(size**2,(int(size/2))**2))\n",
    "    #storing the von_neumann correction matrix/mask for use later\n",
    "    dummy,p_corr = make_laplacian(level,np.linspace (0,sizex,size),size)\n",
    "    return p, p_corr #returning both"
   ]
  },
  {
   "cell_type": "code",
   "execution_count": 18,
   "metadata": {},
   "outputs": [],
   "source": [
    "p2, p2_corr = make_prolongation(level_1, 100)\n",
    "p1, p1_corr = make_prolongation(level_0, 200)"
   ]
  },
  {
   "cell_type": "markdown",
   "metadata": {},
   "source": [
    "### The Restriction operator\n",
    "\n",
    "I used a simple restriction operator that just takes a weighted average of the point and all 8 closest points around it in the longer grid. The single exactly overlapping point is given a weight of 0.25, the next four closest points (in both directions) are given weights of 0.125 each, and the next four closest ones (diagonally apart on the larger grid's squares) are weighted 0.0625 apiece. This is enough to be second order accurate."
   ]
  },
  {
   "cell_type": "code",
   "execution_count": 19,
   "metadata": {},
   "outputs": [],
   "source": [
    "def make_restriction(level,size):\n",
    "    data = []\n",
    "    row_inds = []\n",
    "    col_inds = []\n",
    "    for i in range(size):\n",
    "        for j in range(size):\n",
    "            if level[i,j] == 2 or level[i,j] == 3: #in business, not a boundary point in the target\n",
    "                row = i*size + j\n",
    "                col = (2*i)*(2*size) + 2*j\n",
    "                \n",
    "                data.append(0.25)\n",
    "                row_inds.append(row)\n",
    "                col_inds.append(col)\n",
    "                        \n",
    "                #immediate l/r/u/p successors\n",
    "                data.append(0.125)\n",
    "                row_inds.append(row)\n",
    "                col_inds.append(col+1)\n",
    "                \n",
    "                data.append(0.125)\n",
    "                row_inds.append(row)\n",
    "                col_inds.append(col-1)\n",
    "                \n",
    "                data.append(0.125)\n",
    "                row_inds.append(row)\n",
    "                col_inds.append(col+2*size)\n",
    "                \n",
    "                data.append(0.125)\n",
    "                row_inds.append(row)\n",
    "                col_inds.append(col-2*size)\n",
    "                        \n",
    "                #2-over successors\n",
    "                data.append(0.0625)\n",
    "                row_inds.append(row)\n",
    "                col_inds.append(col+1-2*size)\n",
    "                \n",
    "                data.append(0.0625)\n",
    "                row_inds.append(row)\n",
    "                col_inds.append(col-1+2*size)\n",
    "                \n",
    "                data.append(0.0625)\n",
    "                row_inds.append(row)\n",
    "                col_inds.append(col+2*size+1)\n",
    "                \n",
    "                data.append(0.0625)\n",
    "                row_inds.append(row)\n",
    "                col_inds.append(col-2*size-1)\n",
    "                        \n",
    "                        \n",
    "    restr = sp.csr_matrix((data,(row_inds,col_inds)),shape=(size**2,(2*size)**2))\n",
    "    dummy,restr_corr = make_laplacian(level,np.linspace (0,sizex,size),size)\n",
    "    return restr, restr_corr"
   ]
  },
  {
   "cell_type": "code",
   "execution_count": 20,
   "metadata": {},
   "outputs": [],
   "source": [
    "r1, r1_corr = make_restriction(level_2,50)\n",
    "r0, r0_corr = make_restriction(level_1,100)"
   ]
  },
  {
   "cell_type": "markdown",
   "metadata": {},
   "source": [
    "### The V-Cycle\n",
    "\n",
    "Finally we implement the smoothening function and the V-Cycle. \n",
    "\n",
    "The smoothening function is just [weighted jacobi iteration](https://en.wikipedia.org/wiki/Jacobi_method#Weighted_Jacobi_method).\n",
    "\n",
    "The V-Cycle is written in the standard recursive way:\n",
    "Base case: At the lowest level, we directly solve, because at this courseness the computation is not very expensive.\n",
    "Recursive case:\n",
    "1. First smoothen a few times with weighted jacobi (here 10 and 3 times at levels 0 and 1 respectively)\n",
    "2. Compute the residual, which is the difference between source terms and the laplacian applied to the state vector (which should go to zero)\n",
    "3. Restrict this residual with a restriction operator and feed it to a lower level as a source term to solve for. We get a correction vector back, which we prolong with our prolongation operator and add back to our current answer.\n",
    "4. Finally smoothen a few times before returning."
   ]
  },
  {
   "cell_type": "code",
   "execution_count": 21,
   "metadata": {},
   "outputs": [],
   "source": [
    "#making the laplacians for each level\n",
    "A0 = steady_laplacian(level_0,np.linspace(0,sizex,200),200)\n",
    "A1 = steady_laplacian(level_1,np.linspace(0,sizex,100),100)\n",
    "A2 = steady_laplacian(level_2,np.linspace(0,sizex,50),50)"
   ]
  },
  {
   "cell_type": "code",
   "execution_count": 22,
   "metadata": {},
   "outputs": [],
   "source": [
    "#standard weighted jacobi iteration, with a weight of 0.05\n",
    "def smoothen(A, w, f, size, iters):\n",
    "    lap= -1.0*A\n",
    "    D = sp.diags([lap.diagonal()],[0],shape=(size**2,size**2))\n",
    "    R = lap - D\n",
    "    u = np.copy(w)\n",
    "    its = 0\n",
    "    alph = 0.05\n",
    "    while its < iters:\n",
    "        up1 = f - (R.dot(u))\n",
    "        up1 = sppla.spsolve(D,up1)\n",
    "        u = (1-alph)*up1 + alph*u\n",
    "        its += 1\n",
    "    return u"
   ]
  },
  {
   "cell_type": "code",
   "execution_count": 23,
   "metadata": {},
   "outputs": [],
   "source": [
    "def v_cycle(level,w, f):\n",
    "    if level == 2:\n",
    "        return sppla.spsolve(-A2,f) #directly solving\n",
    "    \n",
    "    elif level == 1:\n",
    "        v = smoothen(A1, w, f, 100, 10)\n",
    "        residual = f + A1.dot(v) \n",
    "        rest_residual = r1_corr.dot(r1.dot(residual))\n",
    "        guess = np.zeros(rest_residual.shape) #does not matter as the next level is the lowest level\n",
    "        corr = p2_corr.dot(p2.dot(v_cycle(2,guess,rest_residual)))\n",
    "        \n",
    "        v = v + corr\n",
    "        \n",
    "        v = smoothen(A1,v,f,100,10)\n",
    "        \n",
    "        return v\n",
    "    else:\n",
    "        v = smoothen(A0, w, f, 200, 3)\n",
    "        residual = f + A0.dot(v) \n",
    "        rest_residual = r0_corr.dot(r0.dot(residual))\n",
    "        f_res = r0_corr.dot(r0.dot(f))\n",
    "        guess = np.zeros(rest_residual.shape)\n",
    "        \n",
    "        corr = p1_corr.dot(p1.dot(v_cycle(1,guess,rest_residual)))\n",
    "        \n",
    "        v = v + corr\n",
    "        v = smoothen(A0,v,f,200,3)\n",
    "        return v"
   ]
  },
  {
   "cell_type": "markdown",
   "metadata": {},
   "source": [
    "### Running the V-Cycle\n",
    "\n",
    "Starting with random noise, we run the V-Cycle some number of times. Here I chose to run for about 150 iterations, which takes about 45 seconds. The residual gets to around 1e-6 or 1e-7."
   ]
  },
  {
   "cell_type": "code",
   "execution_count": 24,
   "metadata": {
    "scrolled": true
   },
   "outputs": [
    {
     "name": "stdout",
     "output_type": "stream",
     "text": [
      "[3.714431037421022]\n",
      "Running for 150 iterations...\n"
     ]
    },
    {
     "name": "stderr",
     "output_type": "stream",
     "text": [
      "/usr/local/lib/python3.6/site-packages/scipy/sparse/linalg/dsolve/linsolve.py:145: SparseEfficiencyWarning: spsolve requires A be CSC or CSR matrix format\n",
      "  SparseEfficiencyWarning)\n"
     ]
    },
    {
     "name": "stdout",
     "output_type": "stream",
     "text": [
      "Finished with a residual of: 1.0676846123325312e-06\n"
     ]
    },
    {
     "data": {
      "text/plain": [
       "<matplotlib.image.AxesImage at 0x126743dd8>"
      ]
     },
     "execution_count": 24,
     "metadata": {},
     "output_type": "execute_result"
    },
    {
     "data": {
      "image/png": "[encoded data removed]",
      "text/plain": [
       "<Figure size 432x288 with 1 Axes>"
      ]
     },
     "metadata": {
      "needs_background": "light"
     },
     "output_type": "display_data"
    },
    {
     "data": {
      "image/png": "[encoded data removed]",
      "text/plain": [
       "<Figure size 432x288 with 1 Axes>"
      ]
     },
     "metadata": {
      "needs_background": "light"
     },
     "output_type": "display_data"
    }
   ],
   "source": [
    "w = make_guesses(level_0,200)\n",
    "source = make_source(level_0, 200)*0.0025\n",
    "reses = [la.norm(source + A0.dot(w),np.inf)]\n",
    "print(reses)\n",
    "num_iters = 150 #increase for higher convergence\n",
    "print(\"Running for \"+ str(num_iters) + \" iterations...\")\n",
    "for i in range(num_iters):\n",
    "    w = v_cycle(0,w,source)\n",
    "    res_val = la.norm(source + A0.dot(w),np.inf)\n",
    "    reses.append(res_val)\n",
    "print(\"Finished with a residual of: \" + str(res_val))\n",
    "plt.imshow(w.reshape(200,-1))\n",
    "plt.figure()\n",
    "plt.imshow(sppla.spsolve(-A0,source).reshape(200,-1))"
   ]
  },
  {
   "cell_type": "code",
   "execution_count": 25,
   "metadata": {},
   "outputs": [
    {
     "data": {
      "image/png": "[encoded data removed]",
      "text/plain": [
       "<Figure size 432x288 with 1 Axes>"
      ]
     },
     "metadata": {
      "needs_background": "light"
     },
     "output_type": "display_data"
    }
   ],
   "source": [
    "#creates a graph of residuals vs iterations\n",
    "iterations = [i for i in range(len(reses))]\n",
    "plt.semilogy(iterations,reses)\n",
    "plt.ylabel(\"Residuals\")\n",
    "plt.xlabel(\"Iterations\")\n",
    "plt.title(\"Residuals as a function of iterations\")\n",
    "plt.show()"
   ]
  },
  {
   "cell_type": "code",
   "execution_count": null,
   "metadata": {},
   "outputs": [],
   "source": []
  }
 ],
 "metadata": {
  "kernelspec": {
   "display_name": "Python 3",
   "language": "python",
   "name": "python3"
  },
  "language_info": {
   "codemirror_mode": {
    "name": "ipython",
    "version": 3
   },
   "file_extension": ".py",
   "mimetype": "text/x-python",
   "name": "python",
   "nbconvert_exporter": "python",
   "pygments_lexer": "ipython3",
   "version": "3.6.4"
  }
 },
 "nbformat": 4,
 "nbformat_minor": 2
}
